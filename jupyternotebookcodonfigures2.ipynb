{
 "cells": [
  {
   "cell_type": "code",
   "execution_count": 1,
   "metadata": {},
   "outputs": [
    {
     "data": {
      "text/html": [
       "<div>\n",
       "<style scoped>\n",
       "    .dataframe tbody tr th:only-of-type {\n",
       "        vertical-align: middle;\n",
       "    }\n",
       "\n",
       "    .dataframe tbody tr th {\n",
       "        vertical-align: top;\n",
       "    }\n",
       "\n",
       "    .dataframe thead th {\n",
       "        text-align: right;\n",
       "    }\n",
       "</style>\n",
       "<table border=\"1\" class=\"dataframe\">\n",
       "  <thead>\n",
       "    <tr style=\"text-align: right;\">\n",
       "      <th></th>\n",
       "      <th>item</th>\n",
       "      <th>stats</th>\n",
       "    </tr>\n",
       "  </thead>\n",
       "  <tbody>\n",
       "    <tr>\n",
       "      <th>0</th>\n",
       "      <td>PfCRTcodon30</td>\n",
       "      <td>22.50</td>\n",
       "    </tr>\n",
       "    <tr>\n",
       "      <th>1</th>\n",
       "      <td>PfCRTcodon30</td>\n",
       "      <td>4.00</td>\n",
       "    </tr>\n",
       "    <tr>\n",
       "      <th>2</th>\n",
       "      <td>PfCRTcodon30</td>\n",
       "      <td>43.00</td>\n",
       "    </tr>\n",
       "    <tr>\n",
       "      <th>3</th>\n",
       "      <td>PfCRTcodon30</td>\n",
       "      <td>28.50</td>\n",
       "    </tr>\n",
       "    <tr>\n",
       "      <th>4</th>\n",
       "      <td>PfCRTcodon31</td>\n",
       "      <td>58.75</td>\n",
       "    </tr>\n",
       "    <tr>\n",
       "      <th>...</th>\n",
       "      <td>...</td>\n",
       "      <td>...</td>\n",
       "    </tr>\n",
       "    <tr>\n",
       "      <th>15727</th>\n",
       "      <td>PfK13codon117</td>\n",
       "      <td>6.00</td>\n",
       "    </tr>\n",
       "    <tr>\n",
       "      <th>15728</th>\n",
       "      <td>PfK13codon118</td>\n",
       "      <td>2.00</td>\n",
       "    </tr>\n",
       "    <tr>\n",
       "      <th>15729</th>\n",
       "      <td>PfK13codon118</td>\n",
       "      <td>2.00</td>\n",
       "    </tr>\n",
       "    <tr>\n",
       "      <th>15730</th>\n",
       "      <td>PfK13codon118</td>\n",
       "      <td>2.00</td>\n",
       "    </tr>\n",
       "    <tr>\n",
       "      <th>15731</th>\n",
       "      <td>PfK13codon118</td>\n",
       "      <td>2.00</td>\n",
       "    </tr>\n",
       "  </tbody>\n",
       "</table>\n",
       "<p>15732 rows × 2 columns</p>\n",
       "</div>"
      ],
      "text/plain": [
       "                item  stats\n",
       "0       PfCRTcodon30  22.50\n",
       "1       PfCRTcodon30   4.00\n",
       "2       PfCRTcodon30  43.00\n",
       "3       PfCRTcodon30  28.50\n",
       "4       PfCRTcodon31  58.75\n",
       "...              ...    ...\n",
       "15727  PfK13codon117   6.00\n",
       "15728  PfK13codon118   2.00\n",
       "15729  PfK13codon118   2.00\n",
       "15730  PfK13codon118   2.00\n",
       "15731  PfK13codon118   2.00\n",
       "\n",
       "[15732 rows x 2 columns]"
      ]
     },
     "metadata": {},
     "output_type": "display_data"
    }
   ],
   "source": [
    "import numpy as np\n",
    "import pandas as pd\n",
    "import matplotlib.pyplot as plt\n",
    "import seaborn as sns\n",
    "from pandas import DataFrame\n",
    "import numpy as np\n",
    "import math\n",
    "#sns.set(style=\"darkgrid\")\n",
    "\n",
    "codons = pd.read_csv(\"codondepthstats1-2.csv\")\n",
    "#listofSamples=[]\n",
    "#countofLine=2\n",
    "#for line in codons:\n",
    "#    countofLine+=1\n",
    "#    if countofLine%2==0:\n",
    "#        listofSamples+=[line]\n",
    "#codons=codons[listofSamples]\n",
    "#codons=\n",
    "#print(codons)\n",
    "#print(codons)\n",
    "#pd.DataFrame({'Column1': pd.concat([codons.codon1, codons.codon2, codons.codon3, codons.codon4, codons.codon5, codons.codon6, codons.codon7, codons.codon8])}).sort_index()\n",
    "#print(codons.drop_duplicates(subset=['Column1']))\n",
    "display(codons)"
   ]
  },
  {
   "cell_type": "code",
   "execution_count": 2,
   "metadata": {},
   "outputs": [
    {
     "name": "stdout",
     "output_type": "stream",
     "text": [
      "['PfCRT', 'PfDHFR', 'PfDHPS', 'PfMDR1', 'MT', 'PfK13']\n"
     ]
    }
   ],
   "source": [
    "currentGene=\"\"\n",
    "codonPosition=[]\n",
    "count=0\n",
    "for values in codons.values:\n",
    "    count+=1\n",
    "    currentGene=(values[0][:-len(str(int(values[0].split(\"codon\",1)[1])))]).replace('codon', '')\n",
    "    if count>0:break\n",
    "wholeGeneTypes=[]\n",
    "wholeGeneTypes+=[currentGene]\n",
    "currentGeneList=[]\n",
    "currentCodonPosition=[]\n",
    "for values in codons.values:\n",
    "        #if currentGene == values[0]:\n",
    "            #currentGeneList+=[currentGene[:-len(str(int(''.join(list(filter(str.isdigit, currentGene))))))]]\n",
    "            #currentCodonPosition+=[int(''.join(list(filter(str.isdigit, currentGene))))]\n",
    "        if currentGene != values[0][:-len(str(int(values[0].split(\"codon\",1)[1])))].replace('codon', ''):\n",
    "            currentGene = (values[0][:-len(str(int(values[0].split(\"codon\",1)[1])))]).replace('codon', '')\n",
    "            if currentGene not in wholeGeneTypes:\n",
    "                wholeGeneTypes+=[currentGene]\n",
    "            \n",
    "print(wholeGeneTypes)"
   ]
  },
  {
   "cell_type": "code",
   "execution_count": 3,
   "metadata": {},
   "outputs": [],
   "source": [
    "wholeGene=[]\n",
    "#wholeDepth=[]\n",
    "#wholeSample=[]\n",
    "wholeNum=[]\n",
    "wholePos=[]\n",
    "for gene in wholeGeneTypes:\n",
    "    for values in codons.values:\n",
    "        if gene == (values[0][:-len(str(int(values[0].split(\"codon\",1)[1])))]).replace('codon', ''):\n",
    "            wholeGene+=[gene]\n",
    "            #wholeDepth+=[values[1]]\n",
    "            wholeNum+=[values[1]]\n",
    "            #wholeSample+=[values[2]]\n",
    "            wholePos+=[int(values[0].split(\"codon\",1)[1])]\n",
    "            #print(gene, values[1], values[2], int(values[0].split(\"codon\",1)[1]))"
   ]
  },
  {
   "cell_type": "code",
   "execution_count": 4,
   "metadata": {},
   "outputs": [
    {
     "data": {
      "text/plain": [
       "<Figure size 432x288 with 0 Axes>"
      ]
     },
     "metadata": {},
     "output_type": "display_data"
    }
   ],
   "source": [
    "for gene in wholeGeneTypes:\n",
    "    localGene=[]\n",
    "    #localDepth=[]\n",
    "    #localSample=[]\n",
    "    localnum=[]\n",
    "    localPos=[]\n",
    "    d={}\n",
    "    count=0\n",
    "    for x in range(len(wholeGene)):\n",
    "        if wholeGene[x]==gene:\n",
    "            localnum+=[wholeNum[x]]\n",
    "            #localGene+=wholeGene[x]\n",
    "            #localDepth+=[wholeDepth[x]]\n",
    "            #localSample+=[wholeSample[x]]\n",
    "            localPos+=[wholePos[x]]\n",
    "    d = {\"CodonPosition\": localPos, 'CodonStat':localnum}#, \"Genetype\":localSample}\n",
    "    df = pd.DataFrame(data=d)\n",
    "    #sns.scatterplot(x=\"CodonPosition\", y=\"CodonDepth\", hue=\"Genetype\", s=30, alpha=0.9, data=df).set_title(str(gene))\n",
    "    #sns.violinplot(x=\"CodonPosition\", y=\"CodonDepth\", data=df).set_title(str(gene))\n",
    "    #sns.boxplot(x=\"CodonPosition\", y=\"CodonDepth\", hue=\"Genetype\", data=df).set_title(str(gene))\n",
    "    #sns.scatterplot(x=\"CodonPosition\", y=\"CodonStat\", data=df).set_title(str(gene))\n",
    "    sns.scatterplot(x=\"CodonPosition\", y=\"CodonStat\", s=30, alpha=0.9, data=df).set_title(str(gene))\n",
    "    plt.savefig(\"box_\"+str(gene)+'.png')\n",
    "    plt.clf()\n",
    "    "
   ]
  },
  {
   "cell_type": "code",
   "execution_count": null,
   "metadata": {},
   "outputs": [],
   "source": []
  }
 ],
 "metadata": {
  "kernelspec": {
   "display_name": "Python 3",
   "language": "python",
   "name": "python3"
  },
  "language_info": {
   "codemirror_mode": {
    "name": "ipython",
    "version": 3
   },
   "file_extension": ".py",
   "mimetype": "text/x-python",
   "name": "python",
   "nbconvert_exporter": "python",
   "pygments_lexer": "ipython3",
   "version": "3.7.6"
  }
 },
 "nbformat": 4,
 "nbformat_minor": 4
}
