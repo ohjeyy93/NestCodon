{
 "cells": [
  {
   "cell_type": "code",
   "execution_count": 2,
   "metadata": {},
   "outputs": [
    {
     "data": {
      "text/html": [
       "<div>\n",
       "<style scoped>\n",
       "    .dataframe tbody tr th:only-of-type {\n",
       "        vertical-align: middle;\n",
       "    }\n",
       "\n",
       "    .dataframe tbody tr th {\n",
       "        vertical-align: top;\n",
       "    }\n",
       "\n",
       "    .dataframe thead th {\n",
       "        text-align: right;\n",
       "    }\n",
       "</style>\n",
       "<table border=\"1\" class=\"dataframe\">\n",
       "  <thead>\n",
       "    <tr style=\"text-align: right;\">\n",
       "      <th></th>\n",
       "      <th>CodonPos</th>\n",
       "      <th>CodonCov</th>\n",
       "      <th>CodonSample</th>\n",
       "    </tr>\n",
       "  </thead>\n",
       "  <tbody>\n",
       "    <tr>\n",
       "      <th>0</th>\n",
       "      <td>PfCRTcodon30</td>\n",
       "      <td>14</td>\n",
       "      <td>18HAxx00xs001PfF0510</td>\n",
       "    </tr>\n",
       "    <tr>\n",
       "      <th>1</th>\n",
       "      <td>PfCRTcodon31</td>\n",
       "      <td>49</td>\n",
       "      <td>18HAxx00xs001PfF0510</td>\n",
       "    </tr>\n",
       "    <tr>\n",
       "      <th>2</th>\n",
       "      <td>PfCRTcodon32</td>\n",
       "      <td>91</td>\n",
       "      <td>18HAxx00xs001PfF0510</td>\n",
       "    </tr>\n",
       "    <tr>\n",
       "      <th>3</th>\n",
       "      <td>PfCRTcodon33</td>\n",
       "      <td>107</td>\n",
       "      <td>18HAxx00xs001PfF0510</td>\n",
       "    </tr>\n",
       "    <tr>\n",
       "      <th>4</th>\n",
       "      <td>PfCRTcodon34</td>\n",
       "      <td>119</td>\n",
       "      <td>18HAxx00xs001PfF0510</td>\n",
       "    </tr>\n",
       "    <tr>\n",
       "      <th>...</th>\n",
       "      <td>...</td>\n",
       "      <td>...</td>\n",
       "      <td>...</td>\n",
       "    </tr>\n",
       "    <tr>\n",
       "      <th>30903</th>\n",
       "      <td>PfMDR1codon1402</td>\n",
       "      <td>66</td>\n",
       "      <td>18HAxx00xs008PfF0510</td>\n",
       "    </tr>\n",
       "    <tr>\n",
       "      <th>30904</th>\n",
       "      <td>PfMDR1codon1403</td>\n",
       "      <td>66</td>\n",
       "      <td>18HAxx00xs008PfF0510</td>\n",
       "    </tr>\n",
       "    <tr>\n",
       "      <th>30905</th>\n",
       "      <td>PfMDR1codon1404</td>\n",
       "      <td>66</td>\n",
       "      <td>18HAxx00xs008PfF0510</td>\n",
       "    </tr>\n",
       "    <tr>\n",
       "      <th>30906</th>\n",
       "      <td>PfMDR1codon1405</td>\n",
       "      <td>26</td>\n",
       "      <td>18HAxx00xs008PfF0510</td>\n",
       "    </tr>\n",
       "    <tr>\n",
       "      <th>30907</th>\n",
       "      <td>PfMDR1codon1406</td>\n",
       "      <td>8</td>\n",
       "      <td>18HAxx00xs008PfF0510</td>\n",
       "    </tr>\n",
       "  </tbody>\n",
       "</table>\n",
       "<p>30908 rows × 3 columns</p>\n",
       "</div>"
      ],
      "text/plain": [
       "              CodonPos  CodonCov           CodonSample\n",
       "0         PfCRTcodon30        14  18HAxx00xs001PfF0510\n",
       "1         PfCRTcodon31        49  18HAxx00xs001PfF0510\n",
       "2         PfCRTcodon32        91  18HAxx00xs001PfF0510\n",
       "3         PfCRTcodon33       107  18HAxx00xs001PfF0510\n",
       "4         PfCRTcodon34       119  18HAxx00xs001PfF0510\n",
       "...                ...       ...                   ...\n",
       "30903  PfMDR1codon1402        66  18HAxx00xs008PfF0510\n",
       "30904  PfMDR1codon1403        66  18HAxx00xs008PfF0510\n",
       "30905  PfMDR1codon1404        66  18HAxx00xs008PfF0510\n",
       "30906  PfMDR1codon1405        26  18HAxx00xs008PfF0510\n",
       "30907  PfMDR1codon1406         8  18HAxx00xs008PfF0510\n",
       "\n",
       "[30908 rows x 3 columns]"
      ]
     },
     "metadata": {},
     "output_type": "display_data"
    }
   ],
   "source": [
    "import numpy as np\n",
    "import pandas as pd\n",
    "import matplotlib.pyplot as plt\n",
    "import seaborn as sns\n",
    "from pandas import DataFrame\n",
    "import numpy as np\n",
    "import math\n",
    "#sns.set(style=\"darkgrid\")\n",
    "\n",
    "codons = pd.read_csv(\"codondepthnew.csv\")\n",
    "#listofSamples=[]\n",
    "#countofLine=2\n",
    "#for line in codons:\n",
    "#    countofLine+=1\n",
    "#    if countofLine%2==0:\n",
    "#        listofSamples+=[line]\n",
    "#codons=codons[listofSamples]\n",
    "#codons=\n",
    "#print(codons)\n",
    "#print(codons)\n",
    "#pd.DataFrame({'Column1': pd.concat([codons.codon1, codons.codon2, codons.codon3, codons.codon4, codons.codon5, codons.codon6, codons.codon7, codons.codon8])}).sort_index()\n",
    "#print(codons.drop_duplicates(subset=['Column1']))\n",
    "display(codons)"
   ]
  },
  {
   "cell_type": "code",
   "execution_count": 2,
   "metadata": {},
   "outputs": [
    {
     "name": "stdout",
     "output_type": "stream",
     "text": [
      "['PfCRT', 'PfDHFR', 'PfDHPS', 'PfMDR1', 'MT', 'PfK13']\n"
     ]
    }
   ],
   "source": [
    "currentGene=\"\"\n",
    "codonPosition=[]\n",
    "count=0\n",
    "for values in codons.values:\n",
    "    count+=1\n",
    "    currentGene=(values[0][:-len(str(int(values[0].split(\"codon\",1)[1])))]).replace('codon', '')\n",
    "    if count>0:break\n",
    "wholeGeneTypes=[]\n",
    "wholeGeneTypes+=[currentGene]\n",
    "currentGeneList=[]\n",
    "currentCodonPosition=[]\n",
    "for values in codons.values:\n",
    "        #if currentGene == values[0]:\n",
    "            #currentGeneList+=[currentGene[:-len(str(int(''.join(list(filter(str.isdigit, currentGene))))))]]\n",
    "            #currentCodonPosition+=[int(''.join(list(filter(str.isdigit, currentGene))))]\n",
    "        if currentGene != values[0][:-len(str(int(values[0].split(\"codon\",1)[1])))].replace('codon', ''):\n",
    "            currentGene = (values[0][:-len(str(int(values[0].split(\"codon\",1)[1])))]).replace('codon', '')\n",
    "            if currentGene not in wholeGeneTypes:\n",
    "                wholeGeneTypes+=[currentGene]\n",
    "            \n",
    "print(wholeGeneTypes)"
   ]
  },
  {
   "cell_type": "code",
   "execution_count": 3,
   "metadata": {},
   "outputs": [],
   "source": [
    "wholeGene=[]\n",
    "wholeDepth=[]\n",
    "wholeSample=[]\n",
    "wholePos=[]\n",
    "for gene in wholeGeneTypes:\n",
    "    for values in codons.values:\n",
    "        if gene == (values[0][:-len(str(int(values[0].split(\"codon\",1)[1])))]).replace('codon', ''):\n",
    "            wholeGene+=[gene]\n",
    "            wholeDepth+=[values[1]]\n",
    "            wholeSample+=[values[2]]\n",
    "            wholePos+=[int(values[0].split(\"codon\",1)[1])]\n",
    "            #print(gene, values[1], values[2], int(values[0].split(\"codon\",1)[1]))"
   ]
  },
  {
   "cell_type": "code",
   "execution_count": 4,
   "metadata": {},
   "outputs": [
    {
     "data": {
      "text/plain": [
       "<Figure size 432x288 with 0 Axes>"
      ]
     },
     "metadata": {},
     "output_type": "display_data"
    }
   ],
   "source": [
    "for gene in wholeGeneTypes:\n",
    "    localGene=[]\n",
    "    localDepth=[]\n",
    "    localSample=[]\n",
    "    localPos=[]\n",
    "    d={}\n",
    "    count=0\n",
    "    for x in range(len(wholeGene)):\n",
    "        if wholeGene[x]==gene:\n",
    "            #localGene+=wholeGene[x]\n",
    "            localDepth+=[wholeDepth[x]]\n",
    "            localSample+=[wholeSample[x]]\n",
    "            localPos+=[wholePos[x]]\n",
    "    d = {\"CodonPosition\": localPos, 'CodonDepth':localDepth, \"Genetype\":localSample}\n",
    "    df = pd.DataFrame(data=d)\n",
    "    #sns.scatterplot(x=\"CodonPosition\", y=\"CodonDepth\", hue=\"Genetype\", s=30, alpha=0.9, data=df).set_title(str(gene))\n",
    "    #sns.violinplot(x=\"CodonPosition\", y=\"CodonDepth\", data=df).set_title(str(gene))\n",
    "    #sns.boxplot(x=\"CodonPosition\", y=\"CodonDepth\", hue=\"Genetype\", data=df).set_title(str(gene))\n",
    "    sns.boxplot(x=\"CodonPosition\", y=\"CodonDepth\", data=df).set_title(str(gene))\n",
    "    plt.savefig(\"box_\"+str(gene)+'.png')\n",
    "    plt.clf()\n",
    "    "
   ]
  },
  {
   "cell_type": "code",
   "execution_count": 5,
   "metadata": {},
   "outputs": [
    {
     "name": "stdout",
     "output_type": "stream",
     "text": [
      "['18HAxx00xs001PfF0510', '18HAxx00xs002PfF0510', '18HAxx00xs003PfF0510', '18HAxx00xs004PfF0510', '18HAxx00xs005PfF0510', '18HAxx00xs006PfF0510', '18HAxx00xs007PfF0510', '18HAxx00xs008PfF0510']\n"
     ]
    }
   ],
   "source": [
    "currentSample=\"\"\n",
    "codonPosition=[]\n",
    "count=0\n",
    "for values in codons.values:\n",
    "    count+=1\n",
    "    currentStrain=values[2]\n",
    "    if count>0:break\n",
    "wholeSampleTypes=[currentStrain]\n",
    "for values in codons.values:\n",
    "        #if currentGene == values[0]:\n",
    "            #currentGeneList+=[currentGene[:-len(str(int(''.join(list(filter(str.isdigit, currentGene))))))]]\n",
    "            #currentCodonPosition+=[int(''.join(list(filter(str.isdigit, currentGene))))]\n",
    "        if currentStrain != values[2]:\n",
    "            currentStrain = values[2]\n",
    "            if currentStrain not in wholeSampleTypes:\n",
    "                wholeSampleTypes+=[currentStrain]\n",
    "            \n",
    "print(wholeSampleTypes)"
   ]
  },
  {
   "cell_type": "code",
   "execution_count": 6,
   "metadata": {},
   "outputs": [
    {
     "data": {
      "text/plain": [
       "<Figure size 432x288 with 0 Axes>"
      ]
     },
     "metadata": {},
     "output_type": "display_data"
    }
   ],
   "source": [
    "d={}\n",
    "count=0\n",
    "for x in range(len(wholeSampleTypes)):\n",
    "    columnCodonPosition=[]\n",
    "    columnDepth=[]\n",
    "    columnGene=[]\n",
    "    for y in range(len(wholeSample)):\n",
    "        if wholeSample[y]==wholeSampleTypes[x]:\n",
    "                #print(y)\n",
    "                #print(z)\n",
    "                #print((wholeCodonPosition[0][1131]))\n",
    "                #if wholeGene[y][z]==\"PfDHFRcodon\":\n",
    "                #    break\n",
    "                #if wholeGene[y][z]==\"MTcodon\":\n",
    "                #    break\n",
    "                columnCodonPosition+=[wholePos[y]]\n",
    "                columnGene+=[wholeGene[y]]\n",
    "                columnDepth+=[wholeDepth[y]]\n",
    "                #for gene in wholeGene2:\n",
    "                #    if gene==wholeGene[y][z]:\n",
    "                #        columnCodonPosition2+=[wholeCodonPosition[y][z]]\n",
    "                #        columnGene2+=[wholeGene[y][z]]\n",
    "                #        columnDepth2+=[wholeDepth[y][z]]\n",
    "                #if wholeDepth[y][z]!=0:\n",
    "                #    columnDepth+=[wholeDepth[y][z]]\n",
    "                #else:\n",
    "                #    columnDepth+=[None]\n",
    "    count+=1\n",
    "    d[\"d\"+str(count)] = {\"CodonPosition\": columnCodonPosition, 'CodonDepth':columnDepth, \"Genetype\":columnGene}\n",
    "    df = pd.DataFrame(data=d[\"d\"+str(count)])\n",
    "    #sns.scatterplot(x=\"CodonPosition\", y=\"CodonDepth\", hue=\"Genetype\", s=70, alpha=0.3, data=df).set_title(\"strain \"+listofSamples[x])\n",
    "\n",
    "    #sns.scatterplot(x=\"CodonPosition\", y=\"CodonDepth\", hue=\"Genetype\", s=70, alpha=0.3, data=df).set_title(\"strain \"+listofSamples[x])#palette=cmap, data=df)\n",
    "    #sns.catplot(x=\"strain\", y=genename, data=df)#size=\"CodonDepth\", palette=cmap, data=df)\n",
    "    #sns.catplot(x=\"col2\", y=\"col3\", hue=\"col1\", kind=\"swarm\", data=df);\n",
    "    #sns.pairplot(\"CodonPosition\", \"CodonDepth\", kind=\"hex\", data=df)#.set_title(\"strain \"+listofSamples[x])\n",
    "    #sns.pairplot(df, kind=\"scatter\", plot_kws=dict(s=80, edgecolor=\"white\", linewidth=2.5), hue=\"Genetype\")#.set_title(\"strain \"+listofSamples[x])\n",
    "    #sns.scatterplot(x=\"total_bill\", y=\"tip\", hue=\"size\", size=\"size\", 11data=tips)\n",
    "    #sns.kdeplot(df)#.set_title(\"strain \"+listofSamples[x])\n",
    "    #sns.pairplot(df, hue=\"Genetype\")#.set_title(\"strain \"+listofSamples[x])\n",
    "    #sns.catplot(x=\"CodonPosition\", y=\"CodonDepth\", hue=\"Genetype\", kind=\"violin\", data=df)\n",
    "    #print(df)\n",
    "    #print(df)\n",
    "    sns.heatmap(df.pivot(\"CodonPosition\",\"Genetype\", \"CodonDepth\")).set_title(\"strain \"+wholeSampleTypes[x])\n",
    "    #sns.heatmap(df).set_title(\"strain \"+listofSamples[x])\n",
    "    plt.savefig(\"strain_\"+wholeSampleTypes[x]+\"_heatmap.png\")\n",
    "    plt.clf()"
   ]
  },
  {
   "cell_type": "code",
   "execution_count": null,
   "metadata": {},
   "outputs": [],
   "source": []
  }
 ],
 "metadata": {
  "kernelspec": {
   "display_name": "Python 3",
   "language": "python",
   "name": "python3"
  },
  "language_info": {
   "codemirror_mode": {
    "name": "ipython",
    "version": 3
   },
   "file_extension": ".py",
   "mimetype": "text/x-python",
   "name": "python",
   "nbconvert_exporter": "python",
   "pygments_lexer": "ipython3",
   "version": "3.7.6"
  }
 },
 "nbformat": 4,
 "nbformat_minor": 4
}
