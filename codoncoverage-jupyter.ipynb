{
 "cells": [
  {
   "cell_type": "code",
   "execution_count": 1,
   "metadata": {},
   "outputs": [],
   "source": [
    "import subprocess\n",
    "from subprocess import check_output\n",
    "import csv\n",
    "import itertools"
   ]
  },
  {
   "cell_type": "code",
   "execution_count": 2,
   "metadata": {},
   "outputs": [],
   "source": [
    "## create dummy file to write down all the strains\n",
    "file=\"test.txt\""
   ]
  },
  {
   "cell_type": "code",
   "execution_count": 3,
   "metadata": {},
   "outputs": [],
   "source": [
    "## open the dummy file\n",
    "f = open(file, \"w\")"
   ]
  },
  {
   "cell_type": "code",
   "execution_count": 4,
   "metadata": {},
   "outputs": [
    {
     "data": {
      "text/plain": [
       "CompletedProcess(args=['ls', '/home/momo/Desktop/CDC/DhruviPatel-Haiti_Test_bam/Haiti_Test_bam/'], returncode=0)"
      ]
     },
     "execution_count": 4,
     "metadata": {},
     "output_type": "execute_result"
    }
   ],
   "source": [
    "## extract all the strains from the bam file\n",
    "subprocess.run(['ls', '/home/momo/Desktop/CDC/DhruviPatel-Haiti_Test_bam/Haiti_Test_bam/'], stdout=f)"
   ]
  },
  {
   "cell_type": "code",
   "execution_count": 5,
   "metadata": {},
   "outputs": [],
   "source": [
    "filename = \"codondepth4.csv\"\n"
   ]
  },
  {
   "cell_type": "code",
   "execution_count": 6,
   "metadata": {},
   "outputs": [],
   "source": [
    "f2 = open(file, \"r\")\n"
   ]
  },
  {
   "cell_type": "code",
   "execution_count": 7,
   "metadata": {},
   "outputs": [],
   "source": [
    "## create a list of strains\n",
    "\n",
    "strainsList=[\"codon\"]\n",
    "for line in f2:\n",
    "    strainsList+=[line.strip('\\n')]"
   ]
  },
  {
   "cell_type": "code",
   "execution_count": 8,
   "metadata": {},
   "outputs": [],
   "source": [
    "## open csv file\n",
    "with open(filename, 'w') as csvfile: \n",
    "    csvwriter = csv.writer(csvfile) \n",
    "    csvwriter.writerow(strainsList) \n",
    "    #csvwriter.writerows(rows) "
   ]
  },
  {
   "cell_type": "code",
   "execution_count": 9,
   "metadata": {},
   "outputs": [],
   "source": [
    "## setup initial count, depth, and codon\n",
    "countofnucleotide=0\n",
    "sumOfDepth=0\n",
    "currentCodon=\"\"\n",
    "currentcodonnum=1\n",
    "file2=\"text.txt\"\n",
    "k = open(file2, \"w\")\n",
    "\n",
    "f2 = open(file, \"r\")"
   ]
  },
  {
   "cell_type": "code",
   "execution_count": 10,
   "metadata": {},
   "outputs": [],
   "source": [
    "### create list of codon depth for each strains\n",
    "WholeCodonlist=[] ###codon list for whole strains\n",
    "Codonlistname=[]  ## name of strains \n",
    "Codonsamplenum=0  ## codons for different strains\n",
    "for line in f2:\n",
    "    #print('/home/momo/Desktop/CDC/DhruviPatel-Haiti_Test_bam/Haiti_Test_bam/'+line.strip('\\n')+'/alignments/output_FM_SR_DD_RG.bam')\n",
    "    #out=check_output(['samtools', 'depth', '-a', '/home/momo/Desktop/CDC/DhruviPatel-Haiti_Test_bam/Haiti_Test_bam/'+line.strip('\\n')+'/alignments/output_FM_SR_DD_RG.bam'])\n",
    "    k = open(file2, \"w\")\n",
    "    ## run samtools to obtain depth of each nucleotide base\n",
    "    subprocess.run(['samtools', 'depth', '-a', '/home/momo/Desktop/CDC/DhruviPatel-Haiti_Test_bam/Haiti_Test_bam/'+line.strip('\\n')+'/alignments/output_FM_SR_DD_RG.bam'], stdout=k)\n",
    "    k2 = open(file2, \"r\")\n",
    "    countofnucleotide=0\n",
    "    sumOfDepth=0\n",
    "    currentCodon=\"\"\n",
    "    currentcodonnum=1\n",
    "    CurrentCodonList=[]\n",
    "    Codonsamplenum+=1\n",
    "    \n",
    "    ## sum the depth of nucleotide base untill 3 of them is covered for each codon\n",
    "    for line in k2:\n",
    "        if currentcodonnum==1:\n",
    "            ## set up current codon name\n",
    "            currentCodon=(line.split()[0])\n",
    "            #print(currentCodon)\n",
    "        elif currentCodon!=(line.split()[0]):\n",
    "            ## reset and change current codon name\n",
    "            currentcodonnum=1\n",
    "        if countofnucleotide<3:\n",
    "            ## operation for same codon\n",
    "            currentCodon=(line.split()[0])\n",
    "            sumOfDepth+=int(line.split()[2])\n",
    "            countofnucleotide+=1\n",
    "        elif countofnucleotide==3:\n",
    "            ## operation when codon is done\n",
    "            currentCodon=(line.split()[0])\n",
    "            #print(currentCodon)\n",
    "            sumOfDepth=int(line.split()[2])\n",
    "            countofnucleotide=1\n",
    "            if Codonsamplenum==1:\n",
    "                Codonlistname+=[currentCodon+\"codon\"+str(currentcodonnum)]\n",
    "                CurrentCodonList+=[sumOfDepth]\n",
    "            else:\n",
    "                CurrentCodonList+=[sumOfDepth]\n",
    "            currentcodonnum+=1\n",
    "    #print(Codonlistname)\n",
    "    if Codonsamplenum==1:\n",
    "        ## operation for first strain\n",
    "        WholeCodonlist+=[Codonlistname]\n",
    "        WholeCodonlist+=[CurrentCodonList]\n",
    "    else:\n",
    "        ## operation for next strain\n",
    "        #WholeCodonlist+=[Codonlistname]\n",
    "        WholeCodonlist+=[CurrentCodonList]"
   ]
  },
  {
   "cell_type": "code",
   "execution_count": 11,
   "metadata": {},
   "outputs": [],
   "source": [
    "## write all the codon and strain information to csv output file\n",
    "with open(filename, 'w') as csvfile: \n",
    "    csvwriter = csv.writer(csvfile) \n",
    "    csvwriter.writerow(strainsList)\n",
    "    #print(np.transpose(WholeCodonlist))\n",
    "    #print(len(WholeCodonlist[0]))\n",
    "    #print(len(WholeCodonlist[1]))\n",
    "    #print(len(WholeCodonlist[15]))\n",
    "    #print(list(zip(*WholeCodonlist)))\n",
    "    #print(*zip(*WholeCodonlist))\n",
    "    #WholeCodonListTranspose=list(map(list, zip(*WholeCodonlist)))\n",
    "    #print(WholeCodonListTranspose)\n",
    "    #for list in np.transpose(WholeCodonlist):\n",
    "    #    print(list)\n",
    "    #    csvwriter.writerow(list)\n",
    "    #    break\n",
    "    csvwriter.writerows(list(itertools.zip_longest(*WholeCodonlist, fillvalue=\"\")))\n",
    "    #csvwriter.writerows((zip(*np.transpose(WholeCodonlist)))) "
   ]
  },
  {
   "cell_type": "code",
   "execution_count": null,
   "metadata": {},
   "outputs": [],
   "source": []
  },
  {
   "cell_type": "code",
   "execution_count": null,
   "metadata": {},
   "outputs": [],
   "source": []
  }
 ],
 "metadata": {
  "kernelspec": {
   "display_name": "Python 3",
   "language": "python",
   "name": "python3"
  },
  "language_info": {
   "codemirror_mode": {
    "name": "ipython",
    "version": 3
   },
   "file_extension": ".py",
   "mimetype": "text/x-python",
   "name": "python",
   "nbconvert_exporter": "python",
   "pygments_lexer": "ipython3",
   "version": "3.7.6"
  }
 },
 "nbformat": 4,
 "nbformat_minor": 4
}
